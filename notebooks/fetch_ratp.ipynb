{
 "cells": [
  {
   "cell_type": "markdown",
   "metadata": {},
   "source": [
    "## Packages"
   ]
  },
  {
   "cell_type": "code",
   "execution_count": null,
   "metadata": {},
   "outputs": [],
   "source": []
  },
  {
   "cell_type": "markdown",
   "metadata": {},
   "source": [
    "## Imports"
   ]
  },
  {
   "cell_type": "code",
   "execution_count": 1,
   "metadata": {},
   "outputs": [],
   "source": [
    "from datetime import datetime\n",
    "import requests\n",
    "import os\n",
    "import pandas as pd"
   ]
  },
  {
   "cell_type": "markdown",
   "metadata": {},
   "source": [
    "## Tests"
   ]
  },
  {
   "cell_type": "code",
   "execution_count": 2,
   "metadata": {},
   "outputs": [
    {
     "name": "stdout",
     "output_type": "stream",
     "text": [
      "7Hnxo1G0xy4Yf0JTd19DriMvcLllQCwd\n"
     ]
    },
    {
     "data": {
      "text/html": [
       "<div>\n",
       "<style scoped>\n",
       "    .dataframe tbody tr th:only-of-type {\n",
       "        vertical-align: middle;\n",
       "    }\n",
       "\n",
       "    .dataframe tbody tr th {\n",
       "        vertical-align: top;\n",
       "    }\n",
       "\n",
       "    .dataframe thead th {\n",
       "        text-align: right;\n",
       "    }\n",
       "</style>\n",
       "<table border=\"1\" class=\"dataframe\">\n",
       "  <thead>\n",
       "    <tr style=\"text-align: right;\">\n",
       "      <th></th>\n",
       "      <th>disruption_id</th>\n",
       "      <th>begin</th>\n",
       "      <th>end</th>\n",
       "      <th>status</th>\n",
       "      <th>cause</th>\n",
       "      <th>category</th>\n",
       "      <th>effect</th>\n",
       "      <th>messages</th>\n",
       "      <th>impacted_objects</th>\n",
       "      <th>line_id</th>\n",
       "    </tr>\n",
       "  </thead>\n",
       "  <tbody>\n",
       "    <tr>\n",
       "      <th>10</th>\n",
       "      <td>5d58a710-7766-11ef-ab99-0a58a9feac02</td>\n",
       "      <td>2024-09-20 17:36:51</td>\n",
       "      <td>2024-09-21 05:15:00</td>\n",
       "      <td>active</td>\n",
       "      <td>perturbation</td>\n",
       "      <td>Incidents</td>\n",
       "      <td>NO_SERVICE</td>\n",
       "      <td>Métro 4 : Bagage oublié sur un quai - Trafic i...</td>\n",
       "      <td>RATP Métro 4, RATP Métro 4</td>\n",
       "      <td>line:IDFM:C01374, line:IDFM:C01374</td>\n",
       "    </tr>\n",
       "    <tr>\n",
       "      <th>34</th>\n",
       "      <td>2c4a0aaa-7767-11ef-81fe-0a58a9feac02</td>\n",
       "      <td>2024-09-20 17:40:21</td>\n",
       "      <td>2024-09-20 18:26:21</td>\n",
       "      <td>active</td>\n",
       "      <td>perturbation</td>\n",
       "      <td>Incidents</td>\n",
       "      <td>SIGNIFICANT_DELAYS</td>\n",
       "      <td>Métro 13 : Incident (intervention conducteur) ...</td>\n",
       "      <td>RATP Métro 13, RATP Métro 13</td>\n",
       "      <td>line:IDFM:C01383, line:IDFM:C01383</td>\n",
       "    </tr>\n",
       "    <tr>\n",
       "      <th>35</th>\n",
       "      <td>3caed13e-7760-11ef-81fe-0a58a9feac02</td>\n",
       "      <td>2024-09-20 17:42:00</td>\n",
       "      <td>2024-09-21 05:15:00</td>\n",
       "      <td>active</td>\n",
       "      <td>perturbation</td>\n",
       "      <td>Incidents</td>\n",
       "      <td>SIGNIFICANT_DELAYS</td>\n",
       "      <td>Métro 8 : Bagage oublié dans un train - Trafic...</td>\n",
       "      <td>RATP Métro 8</td>\n",
       "      <td>line:IDFM:C01378</td>\n",
       "    </tr>\n",
       "  </tbody>\n",
       "</table>\n",
       "</div>"
      ],
      "text/plain": [
       "                           disruption_id               begin  \\\n",
       "10  5d58a710-7766-11ef-ab99-0a58a9feac02 2024-09-20 17:36:51   \n",
       "34  2c4a0aaa-7767-11ef-81fe-0a58a9feac02 2024-09-20 17:40:21   \n",
       "35  3caed13e-7760-11ef-81fe-0a58a9feac02 2024-09-20 17:42:00   \n",
       "\n",
       "                   end  status         cause   category              effect  \\\n",
       "10 2024-09-21 05:15:00  active  perturbation  Incidents          NO_SERVICE   \n",
       "34 2024-09-20 18:26:21  active  perturbation  Incidents  SIGNIFICANT_DELAYS   \n",
       "35 2024-09-21 05:15:00  active  perturbation  Incidents  SIGNIFICANT_DELAYS   \n",
       "\n",
       "                                             messages  \\\n",
       "10  Métro 4 : Bagage oublié sur un quai - Trafic i...   \n",
       "34  Métro 13 : Incident (intervention conducteur) ...   \n",
       "35  Métro 8 : Bagage oublié dans un train - Trafic...   \n",
       "\n",
       "                impacted_objects                             line_id  \n",
       "10    RATP Métro 4, RATP Métro 4  line:IDFM:C01374, line:IDFM:C01374  \n",
       "34  RATP Métro 13, RATP Métro 13  line:IDFM:C01383, line:IDFM:C01383  \n",
       "35                  RATP Métro 8                    line:IDFM:C01378  "
      ]
     },
     "execution_count": 2,
     "metadata": {},
     "output_type": "execute_result"
    }
   ],
   "source": [
    "prim_api_key = os.environ.get('PRIM_API_KEY')\n",
    "prim_api_url = os.environ.get('PRIM_API_URL')\n",
    "\n",
    "params = {'count': 100,\n",
    "        'since':'20240920T000000'}\n",
    "\n",
    "response = requests.get(prim_api_url,\n",
    "                        params=params, \n",
    "                        headers={'apiKey':prim_api_key})\n",
    "\n",
    "info_traffic = response.json()\n",
    "\n",
    "info_dic = {'disruption_id':[],\n",
    "            'begin':[],\n",
    "            'end':[],\n",
    "            'status':[],\n",
    "            'cause':[],\n",
    "            'category':[],\n",
    "            'effect':[],\n",
    "            'messages':[],\n",
    "            'impacted_objects':[],\n",
    "            'line_id':[]}\n",
    "\n",
    "for disruption in info_traffic['disruptions']:\n",
    "    info_dic['disruption_id'].append(disruption['disruption_id'])\n",
    "    info_dic['begin'].append(datetime.strptime(disruption['application_periods'][-1]['begin'], \"%Y%m%dT%H%M%S\"))\n",
    "    info_dic['end'].append(datetime.strptime(disruption['application_periods'][-1]['end'], \"%Y%m%dT%H%M%S\"))\n",
    "    info_dic['status'].append(disruption['status'])\n",
    "    info_dic['cause'].append(disruption['cause'])\n",
    "    info_dic['category'].append(disruption['category'])\n",
    "    info_dic['effect'].append(disruption['severity']['effect'])\n",
    "    info_dic['messages'].append(', '.join([message['text'] for message in disruption['messages']]))\n",
    "    info_dic['impacted_objects'].append(', '.join([obj['pt_object']['name'] for obj in disruption['impacted_objects']]))\n",
    "    info_dic['line_id'].append(', '.join([obj['pt_object']['id'] for obj in disruption['impacted_objects']]))\n",
    "\n",
    "info_df = pd.DataFrame(info_dic)\n",
    "info_df[(info_df.status.str.contains('active')) & (info_df.impacted_objects.str.contains('Métro'))]"
   ]
  }
 ],
 "metadata": {
  "kernelspec": {
   "display_name": "de_project",
   "language": "python",
   "name": "de_project"
  },
  "language_info": {
   "codemirror_mode": {
    "name": "ipython",
    "version": 3
   },
   "file_extension": ".py",
   "mimetype": "text/x-python",
   "name": "python",
   "nbconvert_exporter": "python",
   "pygments_lexer": "ipython3",
   "version": "3.10.12"
  }
 },
 "nbformat": 4,
 "nbformat_minor": 2
}
